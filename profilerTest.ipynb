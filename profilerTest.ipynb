{
 "cells": [
  {
   "cell_type": "code",
   "execution_count": 12,
   "metadata": {},
   "outputs": [],
   "source": [
    "import datamart_profiler\n",
    "import io\n",
    "import pandas as pd"
   ]
  },
  {
   "cell_type": "code",
   "execution_count": 5,
   "metadata": {},
   "outputs": [],
   "source": [
    "metadata = datamart_profiler.process_dataset(\"poop/yellow.csv\")"
   ]
  },
  {
   "cell_type": "code",
   "execution_count": 7,
   "metadata": {},
   "outputs": [
    {
     "data": {
      "text/plain": [
       "dict_keys(['size', 'nb_rows', 'average_row_size', 'nb_profiled_rows', 'nb_columns', 'columns', 'nb_temporal_columns', 'nb_numerical_columns', 'types', 'temporal_coverage', 'attribute_keywords'])"
      ]
     },
     "execution_count": 7,
     "metadata": {},
     "output_type": "execute_result"
    }
   ],
   "source": [
    "metadata.keys()"
   ]
  },
  {
   "cell_type": "code",
   "execution_count": 23,
   "metadata": {},
   "outputs": [
    {
     "data": {
      "text/plain": [
       "[{'type': 'datetime',\n",
       "  'column_names': ['tpep_pickup_datetime'],\n",
       "  'column_indexes': [0],\n",
       "  'column_types': ['http://schema.org/DateTime'],\n",
       "  'ranges': [{'range': {'gte': 1499119232.0, 'lte': 1503824384.0}},\n",
       "   {'range': {'gte': 1504346368.0, 'lte': 1509134336.0}},\n",
       "   {'range': {'gte': 1509674368.0, 'lte': 1514498432.0}}],\n",
       "  'temporal_resolution': 'hour'}]"
      ]
     },
     "execution_count": 23,
     "metadata": {},
     "output_type": "execute_result"
    }
   ],
   "source": [
    "metadata['temporal_coverage']"
   ]
  },
  {
   "cell_type": "code",
   "execution_count": 9,
   "metadata": {},
   "outputs": [
    {
     "data": {
      "text/plain": [
       "[{'name': 'tpep_pickup_datetime',\n",
       "  'structural_type': 'http://schema.org/Text',\n",
       "  'semantic_types': ['http://schema.org/Enumeration',\n",
       "   'http://schema.org/DateTime'],\n",
       "  'num_distinct_values': 4416},\n",
       " {'name': 'PULocationID',\n",
       "  'structural_type': 'http://schema.org/Integer',\n",
       "  'semantic_types': ['http://schema.org/identifier'],\n",
       "  'unclean_values_ratio': 0.0,\n",
       "  'num_distinct_values': 262,\n",
       "  'mean': 141.12162870901608,\n",
       "  'stddev': 77.20888809848945,\n",
       "  'coverage': [{'range': {'gte': 7.0, 'lte': 93.0}},\n",
       "   {'range': {'gte': 107.0, 'lte': 186.0}},\n",
       "   {'range': {'gte': 194.0, 'lte': 264.0}}]},\n",
       " {'name': 'n. trips',\n",
       "  'structural_type': 'http://schema.org/Integer',\n",
       "  'semantic_types': [],\n",
       "  'unclean_values_ratio': 0.0,\n",
       "  'num_distinct_values': 1198,\n",
       "  'mean': 103.16315697461897,\n",
       "  'stddev': 172.84352440584382,\n",
       "  'coverage': [{'range': {'gte': 1.0, 'lte': 108.0}},\n",
       "   {'range': {'gte': 155.0, 'lte': 418.0}}]}]"
      ]
     },
     "execution_count": 9,
     "metadata": {},
     "output_type": "execute_result"
    }
   ],
   "source": [
    "metadata['columns']"
   ]
  },
  {
   "cell_type": "code",
   "execution_count": 22,
   "metadata": {},
   "outputs": [
    {
     "data": {
      "text/plain": [
       "'tpep_pickup_datetime'"
      ]
     },
     "execution_count": 22,
     "metadata": {},
     "output_type": "execute_result"
    }
   ],
   "source": [
    "metadata['columns'][0]['name']"
   ]
  },
  {
   "cell_type": "code",
   "execution_count": 13,
   "metadata": {},
   "outputs": [
    {
     "data": {
      "text/html": [
       "<div>\n",
       "<style scoped>\n",
       "    .dataframe tbody tr th:only-of-type {\n",
       "        vertical-align: middle;\n",
       "    }\n",
       "\n",
       "    .dataframe tbody tr th {\n",
       "        vertical-align: top;\n",
       "    }\n",
       "\n",
       "    .dataframe thead th {\n",
       "        text-align: right;\n",
       "    }\n",
       "</style>\n",
       "<table border=\"1\" class=\"dataframe\">\n",
       "  <thead>\n",
       "    <tr style=\"text-align: right;\">\n",
       "      <th></th>\n",
       "      <th>tpep_pickup_datetime</th>\n",
       "      <th>PULocationID</th>\n",
       "      <th>n. trips</th>\n",
       "    </tr>\n",
       "  </thead>\n",
       "  <tbody>\n",
       "    <tr>\n",
       "      <th>180153</th>\n",
       "      <td>2017-09-01 21:00:00</td>\n",
       "      <td>162</td>\n",
       "      <td>354</td>\n",
       "    </tr>\n",
       "    <tr>\n",
       "      <th>457995</th>\n",
       "      <td>2017-12-08 07:00:00</td>\n",
       "      <td>243</td>\n",
       "      <td>4</td>\n",
       "    </tr>\n",
       "    <tr>\n",
       "      <th>180101</th>\n",
       "      <td>2017-09-01 21:00:00</td>\n",
       "      <td>49</td>\n",
       "      <td>10</td>\n",
       "    </tr>\n",
       "    <tr>\n",
       "      <th>201143</th>\n",
       "      <td>2017-09-09 04:00:00</td>\n",
       "      <td>181</td>\n",
       "      <td>6</td>\n",
       "    </tr>\n",
       "  </tbody>\n",
       "</table>\n",
       "</div>"
      ],
      "text/plain": [
       "       tpep_pickup_datetime  PULocationID  n. trips\n",
       "180153  2017-09-01 21:00:00           162       354\n",
       "457995  2017-12-08 07:00:00           243         4\n",
       "180101  2017-09-01 21:00:00            49        10\n",
       "201143  2017-09-09 04:00:00           181         6"
      ]
     },
     "execution_count": 13,
     "metadata": {},
     "output_type": "execute_result"
    }
   ],
   "source": [
    "df = pd.read_csv(\"poop/yellow.csv\")\n",
    "df.sample(4)"
   ]
  },
  {
   "cell_type": "code",
   "execution_count": null,
   "metadata": {},
   "outputs": [],
   "source": []
  }
 ],
 "metadata": {
  "kernelspec": {
   "display_name": "base",
   "language": "python",
   "name": "python3"
  },
  "language_info": {
   "codemirror_mode": {
    "name": "ipython",
    "version": 3
   },
   "file_extension": ".py",
   "mimetype": "text/x-python",
   "name": "python",
   "nbconvert_exporter": "python",
   "pygments_lexer": "ipython3",
   "version": "3.9.13"
  },
  "orig_nbformat": 4
 },
 "nbformat": 4,
 "nbformat_minor": 2
}
