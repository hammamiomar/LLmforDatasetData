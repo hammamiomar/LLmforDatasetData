{
 "cells": [
  {
   "cell_type": "code",
   "execution_count": 1,
   "metadata": {},
   "outputs": [],
   "source": [
    "import datamart_profiler\n",
    "import io\n",
    "import pandas as pd"
   ]
  },
  {
   "cell_type": "code",
   "execution_count": 2,
   "metadata": {},
   "outputs": [],
   "source": [
    "metadata = datamart_profiler.process_dataset(\"datasets/Boat_Launch_Sites_by_State_Parks_or_Marine_Facility.csv\")"
   ]
  },
  {
   "cell_type": "code",
   "execution_count": 3,
   "metadata": {},
   "outputs": [
    {
     "data": {
      "text/plain": [
       "dict_keys(['size', 'nb_rows', 'average_row_size', 'nb_profiled_rows', 'nb_columns', 'columns', 'nb_spatial_columns', 'nb_categorical_columns', 'nb_numerical_columns', 'types', 'spatial_coverage', 'attribute_keywords'])"
      ]
     },
     "execution_count": 3,
     "metadata": {},
     "output_type": "execute_result"
    }
   ],
   "source": [
    "metadata.keys()"
   ]
  },
  {
   "cell_type": "code",
   "execution_count": 17,
   "metadata": {},
   "outputs": [],
   "source": [
    "ranges = metadata['spatial_coverage'][0]['ranges']"
   ]
  },
  {
   "cell_type": "code",
   "execution_count": 16,
   "metadata": {},
   "outputs": [
    {
     "data": {
      "text/plain": [
       "[{'range': {'type': 'envelope',\n",
       "   'coordinates': [[-79.134885, 43.36913472], [-76.60976708, 42.05885118]]}},\n",
       " {'range': {'type': 'envelope',\n",
       "   'coordinates': [[-76.25514321, 44.93159446], [-73.38722476, 42.81858875]]}},\n",
       " {'range': {'type': 'envelope',\n",
       "   'coordinates': [[-74.4611211, 43.05354647], [-73.2316962, 40.682314]]}}]"
      ]
     },
     "execution_count": 16,
     "metadata": {},
     "output_type": "execute_result"
    }
   ],
   "source": [
    "metadata['spatial_coverage'][1]['ranges']"
   ]
  },
  {
   "cell_type": "code",
   "execution_count": 37,
   "metadata": {},
   "outputs": [],
   "source": [
    "from math import radians, sin, cos, sqrt,asin\n",
    "\n",
    "def haversine_distance(lat1, lon1, lat2, lon2):\n",
    "    R = 3959.87433 # this is in miles.  For Earth radius in kilometers use 6372.8 km\n",
    "    dLat = radians(lat2 - lat1)\n",
    "    dLon = radians(lon2 - lon1)\n",
    "    lat1 = radians(lat1)\n",
    "    lat2 = radians(lat2)\n",
    "\n",
    "    a = sin(dLat/2)**2 + cos(lat1)*cos(lat2)*sin(dLon/2)**2\n",
    "    c = 2*asin(sqrt(a))\n",
    "\n",
    "    return R * c"
   ]
  },
  {
   "cell_type": "code",
   "execution_count": 38,
   "metadata": {},
   "outputs": [],
   "source": [
    "from geopy.geocoders import Nominatim\n",
    "\n",
    "def calculate_encapsulating_area(coordinates_list):\n",
    "    min_latitude = float('inf')\n",
    "    max_latitude = float('-inf')\n",
    "    min_longitude = float('inf')\n",
    "    max_longitude = float('-inf')\n",
    "    geolocator = Nominatim(user_agent=\"my-app\")  # Specify your user agent\n",
    "\n",
    "\n",
    "    for item in coordinates_list:\n",
    "        coordinates = item['range']['coordinates']\n",
    "        min_lon,min_lat = coordinates[0]\n",
    "        max_lon,max_lat = coordinates[1]\n",
    "\n",
    "        min_latitude = min(min_latitude, min_lat)\n",
    "        max_latitude = max(max_latitude, max_lat)\n",
    "        min_longitude = min(min_longitude, min_lon)\n",
    "        max_longitude = max(max_longitude, max_lon)\n",
    "\n",
    "    location = geolocator.reverse((min_latitude, min_longitude), exactly_one=True)\n",
    "    min_address = location.raw['address']\n",
    "    min_city = min_address.get('city', '') or min_address.get('town', '') or min_address.get('village', '') or min_address.get('state', '')\n",
    "\n",
    "    # Reverse geocode the maximum latitude and longitude\n",
    "    location = geolocator.reverse((max_latitude, max_longitude), exactly_one=True)\n",
    "    max_address = location.raw['address']\n",
    "    max_city = max_address.get('city', '') or max_address.get('town', '') or max_address.get('village', '') or max_address.get('state', '')\n",
    "\n",
    "    area = (max_latitude - min_latitude) * (max_longitude - min_longitude)\n",
    "\n",
    "    return area,min_city,max_city"
   ]
  },
  {
   "cell_type": "code",
   "execution_count": 44,
   "metadata": {},
   "outputs": [],
   "source": [
    "def unstack_ranges(ranges):\n",
    "    coordinates_list = []\n",
    "    for item in ranges:\n",
    "        coordinates_list.append(item['range']['coordinates'][0])\n",
    "        coordinates_list.append(item['range']['coordinates'][1])\n",
    "    return coordinates_list\n",
    "\n",
    "def find_furthest_pairs(coords_list):\n",
    "    max_distance = 0\n",
    "    furthest_pairs = None\n",
    "    geolocator = Nominatim(user_agent=\"my-app\")  # Specify your user agent\n",
    "\n",
    "    coords_list= unstack_ranges(coords_list)\n",
    "    furthest_pairs = [coords_list[0],coords_list[1]]\n",
    "    furthestDist = haversine_distance(coords_list[0][1], coords_list[0][0], coords_list[1][1], coords_list[1][0])\n",
    "    \n",
    "    distFlag=0\n",
    "    for item in coords_list[2:]:\n",
    "        dist1 = haversine_distance(furthest_pairs[0][1], furthest_pairs[0][0], item[1], item[0])\n",
    "        dist2 = haversine_distance(furthest_pairs[1][1], furthest_pairs[1][0], item[1], item[0])\n",
    "        if dist1<dist2:\n",
    "            distFlag=1\n",
    "\n",
    "        if distFlag==0 and dist1>furthestDist:\n",
    "            furthestDist = dist1\n",
    "            furthest_pairs[1] = item\n",
    "        elif distFlag==1 and dist2>furthestDist:\n",
    "            furthestDist = dist2\n",
    "            furthest_pairs[0] = item\n",
    "        distFlag=0\n",
    "    \n",
    "    location = geolocator.reverse((furthest_pairs[0][1],furthest_pairs[0][0]), exactly_one=True)\n",
    "    min_address = location.raw['address']\n",
    "    min_city = min_address.get('city', '') or min_address.get('town', '') or min_address.get('village', '') or min_address.get('state', '')\n",
    "\n",
    "    # Reverse geocode the maximum latitude and longitude\n",
    "    location = geolocator.reverse((furthest_pairs[1][1],furthest_pairs[1][0]), exactly_one=True)\n",
    "    max_address = location.raw['address']\n",
    "    max_city = max_address.get('city', '') or max_address.get('town', '') or max_address.get('village', '') or max_address.get('state', '')\n",
    "\n",
    "\n",
    "    return min_city,max_city"
   ]
  },
  {
   "cell_type": "code",
   "execution_count": 46,
   "metadata": {},
   "outputs": [
    {
     "data": {
      "text/plain": [
       "('Drummond-North Elmsley', 'New York')"
      ]
     },
     "execution_count": 46,
     "metadata": {},
     "output_type": "execute_result"
    }
   ],
   "source": [
    "find_furthest_pairs(ranges)"
   ]
  },
  {
   "cell_type": "code",
   "execution_count": 68,
   "metadata": {},
   "outputs": [],
   "source": [
    "metadata = datamart_profiler.process_dataset(\"datasets/yellow.csv\")"
   ]
  },
  {
   "cell_type": "code",
   "execution_count": 69,
   "metadata": {},
   "outputs": [
    {
     "data": {
      "text/plain": [
       "dict_keys(['size', 'nb_rows', 'average_row_size', 'nb_profiled_rows', 'nb_columns', 'columns', 'nb_temporal_columns', 'nb_numerical_columns', 'types', 'temporal_coverage', 'attribute_keywords'])"
      ]
     },
     "execution_count": 69,
     "metadata": {},
     "output_type": "execute_result"
    }
   ],
   "source": [
    "metadata.keys()"
   ]
  },
  {
   "cell_type": "code",
   "execution_count": 70,
   "metadata": {},
   "outputs": [
    {
     "data": {
      "text/plain": [
       "[{'type': 'datetime',\n",
       "  'column_names': ['tpep_pickup_datetime'],\n",
       "  'column_indexes': [0],\n",
       "  'column_types': ['http://schema.org/DateTime'],\n",
       "  'ranges': [{'range': {'gte': 1499119232.0, 'lte': 1503824384.0}},\n",
       "   {'range': {'gte': 1504346368.0, 'lte': 1509134336.0}},\n",
       "   {'range': {'gte': 1509674368.0, 'lte': 1514498432.0}}],\n",
       "  'temporal_resolution': 'hour'}]"
      ]
     },
     "execution_count": 70,
     "metadata": {},
     "output_type": "execute_result"
    }
   ],
   "source": [
    "metadata['temporal_coverage']"
   ]
  },
  {
   "cell_type": "code",
   "execution_count": 72,
   "metadata": {},
   "outputs": [],
   "source": [
    "df = pd.read_csv('datasets/yellow.csv')"
   ]
  },
  {
   "cell_type": "code",
   "execution_count": 81,
   "metadata": {},
   "outputs": [],
   "source": [
    "df = pd.read_csv(\"datasets/yellow.csv\")\n",
    "temp=pd.to_datetime(df['tpep_pickup_datetime'],format='%Y-%m-%d %H:%M:%S')"
   ]
  },
  {
   "cell_type": "code",
   "execution_count": 85,
   "metadata": {},
   "outputs": [
    {
     "data": {
      "text/plain": [
       "0        2017-07-01 00:00:00\n",
       "1        2017-07-01 00:00:00\n",
       "2        2017-07-01 00:00:00\n",
       "3        2017-07-01 00:00:00\n",
       "4        2017-07-01 00:00:00\n",
       "                 ...        \n",
       "526610   2017-12-31 23:00:00\n",
       "526611   2017-12-31 23:00:00\n",
       "526612   2017-12-31 23:00:00\n",
       "526613   2017-12-31 23:00:00\n",
       "526614   2017-12-31 23:00:00\n",
       "Name: tpep_pickup_datetime, Length: 526615, dtype: datetime64[ns]"
      ]
     },
     "execution_count": 85,
     "metadata": {},
     "output_type": "execute_result"
    }
   ],
   "source": [
    "temp"
   ]
  },
  {
   "cell_type": "code",
   "execution_count": 86,
   "metadata": {},
   "outputs": [
    {
     "data": {
      "text/plain": [
       "dict_keys(['size', 'nb_rows', 'average_row_size', 'nb_profiled_rows', 'nb_columns', 'columns', 'nb_temporal_columns', 'nb_categorical_columns', 'nb_numerical_columns', 'types', 'temporal_coverage', 'attribute_keywords'])"
      ]
     },
     "execution_count": 86,
     "metadata": {},
     "output_type": "execute_result"
    }
   ],
   "source": [
    "metadata=datamart_profiler.process_dataset(\"datasets/LAPD_Calls_for_Service_2014.csv\")\n",
    "metadata.keys()"
   ]
  },
  {
   "cell_type": "code",
   "execution_count": 87,
   "metadata": {},
   "outputs": [
    {
     "data": {
      "text/plain": [
       "[{'type': 'datetime',\n",
       "  'column_names': ['Dispatch Date'],\n",
       "  'column_indexes': [3],\n",
       "  'column_types': ['http://schema.org/DateTime'],\n",
       "  'ranges': [{'range': {'gte': 1389052800.0, 'lte': 1398643200.0}},\n",
       "   {'range': {'gte': 1399680000.0, 'lte': 1409097600.0}},\n",
       "   {'range': {'gte': 1410134400.0, 'lte': 1419465600.0}}],\n",
       "  'temporal_resolution': 'day'}]"
      ]
     },
     "execution_count": 87,
     "metadata": {},
     "output_type": "execute_result"
    }
   ],
   "source": [
    "metadata['temporal_coverage']"
   ]
  },
  {
   "cell_type": "code",
   "execution_count": 94,
   "metadata": {},
   "outputs": [
    {
     "data": {
      "text/plain": [
       "('00:00:00', '2014-12-25')"
      ]
     },
     "execution_count": 94,
     "metadata": {},
     "output_type": "execute_result"
    }
   ],
   "source": [
    "from datetime import datetime, timedelta\n",
    "\n",
    "def getTimeRange(timeCoverage):\n",
    "    epoch = datetime(1970, 1, 1)  # Unix epoch start date\n",
    "    min_start_date = None\n",
    "    max_start_date = None\n",
    "    \n",
    "    for range_item in timeCoverage:\n",
    "        start_timestamp = range_item['range']['gte']\n",
    "        end_timestamp = range_item['range']['lte']\n",
    "\n",
    "        start_date = epoch + timedelta(seconds=start_timestamp)\n",
    "        end_date = epoch + timedelta(seconds=end_timestamp)\n",
    "        \n",
    "        if min_start_date is None or start_date < min_start_date:\n",
    "            min_start_date = start_date\n",
    "        \n",
    "        if max_start_date is None or end_date > max_start_date:\n",
    "            max_start_date = end_date\n",
    "    \n",
    "    return str(min_start_date.time()), str(max_start_date.date())\n",
    "\n",
    "getTimeRange(metadata['temporal_coverage'][0]['ranges'])"
   ]
  },
  {
   "cell_type": "code",
   "execution_count": 96,
   "metadata": {},
   "outputs": [
    {
     "data": {
      "text/html": [
       "<div>\n",
       "<style scoped>\n",
       "    .dataframe tbody tr th:only-of-type {\n",
       "        vertical-align: middle;\n",
       "    }\n",
       "\n",
       "    .dataframe tbody tr th {\n",
       "        vertical-align: top;\n",
       "    }\n",
       "\n",
       "    .dataframe thead th {\n",
       "        text-align: right;\n",
       "    }\n",
       "</style>\n",
       "<table border=\"1\" class=\"dataframe\">\n",
       "  <thead>\n",
       "    <tr style=\"text-align: right;\">\n",
       "      <th></th>\n",
       "      <th>Incident Number</th>\n",
       "      <th>Reporting District</th>\n",
       "      <th>Area Occurred</th>\n",
       "      <th>Dispatch Date</th>\n",
       "      <th>Dispatch Time</th>\n",
       "      <th>Call Type Code</th>\n",
       "      <th>Call Type Description</th>\n",
       "    </tr>\n",
       "  </thead>\n",
       "  <tbody>\n",
       "    <tr>\n",
       "      <th>0</th>\n",
       "      <td>140212004623</td>\n",
       "      <td>127</td>\n",
       "      <td>Central</td>\n",
       "      <td>02/12/2014</td>\n",
       "      <td>18:11:47</td>\n",
       "      <td>415W</td>\n",
       "      <td>WOMAN</td>\n",
       "    </tr>\n",
       "    <tr>\n",
       "      <th>1</th>\n",
       "      <td>140212004304</td>\n",
       "      <td>1385</td>\n",
       "      <td>Newton</td>\n",
       "      <td>02/12/2014</td>\n",
       "      <td>18:11:44</td>\n",
       "      <td>415G</td>\n",
       "      <td>GRP</td>\n",
       "    </tr>\n",
       "    <tr>\n",
       "      <th>2</th>\n",
       "      <td>140212004626</td>\n",
       "      <td>1307</td>\n",
       "      <td>Newton</td>\n",
       "      <td>02/12/2014</td>\n",
       "      <td>18:11:41</td>\n",
       "      <td>594O</td>\n",
       "      <td>OFCR HLDG</td>\n",
       "    </tr>\n",
       "    <tr>\n",
       "      <th>3</th>\n",
       "      <td>140212004685</td>\n",
       "      <td>2015</td>\n",
       "      <td>Olympic</td>\n",
       "      <td>02/12/2014</td>\n",
       "      <td>18:11:29</td>\n",
       "      <td>1101</td>\n",
       "      <td>NARCOTIC ACTIVITY</td>\n",
       "    </tr>\n",
       "    <tr>\n",
       "      <th>4</th>\n",
       "      <td>140212004668</td>\n",
       "      <td>1636</td>\n",
       "      <td>Foothill</td>\n",
       "      <td>02/12/2014</td>\n",
       "      <td>18:10:58</td>\n",
       "      <td>904A</td>\n",
       "      <td>AMB</td>\n",
       "    </tr>\n",
       "    <tr>\n",
       "      <th>...</th>\n",
       "      <td>...</td>\n",
       "      <td>...</td>\n",
       "      <td>...</td>\n",
       "      <td>...</td>\n",
       "      <td>...</td>\n",
       "      <td>...</td>\n",
       "      <td>...</td>\n",
       "    </tr>\n",
       "    <tr>\n",
       "      <th>932776</th>\n",
       "      <td>141231006434</td>\n",
       "      <td>396</td>\n",
       "      <td>Southwest</td>\n",
       "      <td>12/31/2014</td>\n",
       "      <td>23:58:36</td>\n",
       "      <td>507R</td>\n",
       "      <td>RADIO</td>\n",
       "    </tr>\n",
       "    <tr>\n",
       "      <th>932777</th>\n",
       "      <td>141231006436</td>\n",
       "      <td>679</td>\n",
       "      <td>Hollywood</td>\n",
       "      <td>12/31/2014</td>\n",
       "      <td>23:56:48</td>\n",
       "      <td>507P</td>\n",
       "      <td>PARTY</td>\n",
       "    </tr>\n",
       "    <tr>\n",
       "      <th>932778</th>\n",
       "      <td>141231006443</td>\n",
       "      <td>1974</td>\n",
       "      <td>Mission</td>\n",
       "      <td>12/31/2014</td>\n",
       "      <td>23:59:48</td>\n",
       "      <td>246H</td>\n",
       "      <td>HEARD ONLY</td>\n",
       "    </tr>\n",
       "    <tr>\n",
       "      <th>932779</th>\n",
       "      <td>141231006447</td>\n",
       "      <td>1235</td>\n",
       "      <td>77th Street</td>\n",
       "      <td>12/31/2014</td>\n",
       "      <td>23:58:02</td>\n",
       "      <td>245FX</td>\n",
       "      <td>SHOTS FIRED I/P</td>\n",
       "    </tr>\n",
       "    <tr>\n",
       "      <th>932780</th>\n",
       "      <td>141231006449</td>\n",
       "      <td>375</td>\n",
       "      <td>Southwest</td>\n",
       "      <td>12/31/2014</td>\n",
       "      <td>23:58:15</td>\n",
       "      <td>246H</td>\n",
       "      <td>HEARD ONLY</td>\n",
       "    </tr>\n",
       "  </tbody>\n",
       "</table>\n",
       "<p>932781 rows × 7 columns</p>\n",
       "</div>"
      ],
      "text/plain": [
       "        Incident Number  Reporting District Area Occurred Dispatch Date  \\\n",
       "0          140212004623                 127       Central    02/12/2014   \n",
       "1          140212004304                1385        Newton    02/12/2014   \n",
       "2          140212004626                1307        Newton    02/12/2014   \n",
       "3          140212004685                2015       Olympic    02/12/2014   \n",
       "4          140212004668                1636      Foothill    02/12/2014   \n",
       "...                 ...                 ...           ...           ...   \n",
       "932776     141231006434                 396     Southwest    12/31/2014   \n",
       "932777     141231006436                 679     Hollywood    12/31/2014   \n",
       "932778     141231006443                1974       Mission    12/31/2014   \n",
       "932779     141231006447                1235   77th Street    12/31/2014   \n",
       "932780     141231006449                 375     Southwest    12/31/2014   \n",
       "\n",
       "       Dispatch Time Call Type Code Call Type Description  \n",
       "0           18:11:47           415W                 WOMAN  \n",
       "1           18:11:44           415G                   GRP  \n",
       "2           18:11:41           594O             OFCR HLDG  \n",
       "3           18:11:29           1101     NARCOTIC ACTIVITY  \n",
       "4           18:10:58           904A                   AMB  \n",
       "...              ...            ...                   ...  \n",
       "932776      23:58:36           507R                 RADIO  \n",
       "932777      23:56:48           507P                 PARTY  \n",
       "932778      23:59:48           246H            HEARD ONLY  \n",
       "932779      23:58:02          245FX       SHOTS FIRED I/P  \n",
       "932780      23:58:15           246H            HEARD ONLY  \n",
       "\n",
       "[932781 rows x 7 columns]"
      ]
     },
     "execution_count": 96,
     "metadata": {},
     "output_type": "execute_result"
    }
   ],
   "source": [
    "df = pd.read_csv(   \"datasets/LAPD_Calls_for_Service_2014.csv\")\n",
    "df[]"
   ]
  },
  {
   "cell_type": "code",
   "execution_count": 97,
   "metadata": {},
   "outputs": [
    {
     "data": {
      "text/plain": [
       "77th Street    61241\n",
       "Southwest      55341\n",
       "Mission        53418\n",
       "N Hollywood    51156\n",
       "Van Nuys       47466\n",
       "Hollywood      45841\n",
       "Pacific        45358\n",
       "Northeast      44294\n",
       "Southeast      43879\n",
       "Rampart        43139\n",
       "West Valley    42727\n",
       "Newton         42116\n",
       "Foothill       41688\n",
       "Olympic        41101\n",
       "Topanga        41029\n",
       "Wilshire       40089\n",
       "Devonshire     39895\n",
       "Harbor         39503\n",
       "West LA        38268\n",
       "Central        38073\n",
       "Hollenbeck     37159\n",
       "Name: Area Occurred, dtype: int64"
      ]
     },
     "execution_count": 97,
     "metadata": {},
     "output_type": "execute_result"
    }
   ],
   "source": [
    "df['Area Occurred'].value_counts()"
   ]
  },
  {
   "cell_type": "code",
   "execution_count": 95,
   "metadata": {},
   "outputs": [
    {
     "data": {
      "text/plain": [
       "[{'name': 'Incident Number',\n",
       "  'structural_type': 'http://schema.org/Integer',\n",
       "  'semantic_types': [],\n",
       "  'unclean_values_ratio': 0.0,\n",
       "  'num_distinct_values': 81702,\n",
       "  'mean': 140667694247.15616,\n",
       "  'stddev': 339178521.0635877,\n",
       "  'coverage': [{'range': {'gte': 140107000331.0, 'lte': 140425001653.0}},\n",
       "   {'range': {'gte': 140507001862.0, 'lte': 140825004031.0}},\n",
       "   {'range': {'gte': 140907000796.0, 'lte': 141225002548.0}}]},\n",
       " {'name': 'Reporting District',\n",
       "  'structural_type': 'http://schema.org/Integer',\n",
       "  'semantic_types': [],\n",
       "  'unclean_values_ratio': 0.0,\n",
       "  'num_distinct_values': 1131,\n",
       "  'mean': 1157.1637291620768,\n",
       "  'stddev': 598.5313976248929,\n",
       "  'coverage': [{'range': {'gte': 152.0, 'lte': 762.0}},\n",
       "   {'range': {'gte': 837.0, 'lte': 1452.0}},\n",
       "   {'range': {'gte': 1522.0, 'lte': 2155.0}}]},\n",
       " {'name': 'Area Occurred',\n",
       "  'structural_type': 'http://schema.org/Text',\n",
       "  'semantic_types': ['http://schema.org/Enumeration'],\n",
       "  'num_distinct_values': 21},\n",
       " {'name': 'Dispatch Date',\n",
       "  'structural_type': 'http://schema.org/Text',\n",
       "  'semantic_types': ['http://schema.org/Enumeration',\n",
       "   'http://schema.org/DateTime'],\n",
       "  'num_distinct_values': 365},\n",
       " {'name': 'Dispatch Time',\n",
       "  'structural_type': 'http://schema.org/Text',\n",
       "  'semantic_types': [],\n",
       "  'num_distinct_values': 51037},\n",
       " {'name': 'Call Type Code',\n",
       "  'structural_type': 'http://schema.org/Text',\n",
       "  'semantic_types': ['http://schema.org/Enumeration'],\n",
       "  'num_distinct_values': 603},\n",
       " {'name': 'Call Type Description',\n",
       "  'structural_type': 'http://schema.org/Text',\n",
       "  'semantic_types': ['http://schema.org/Enumeration'],\n",
       "  'num_distinct_values': 398}]"
      ]
     },
     "execution_count": 95,
     "metadata": {},
     "output_type": "execute_result"
    }
   ],
   "source": [
    "metadata['columns']"
   ]
  },
  {
   "cell_type": "code",
   "execution_count": null,
   "metadata": {},
   "outputs": [],
   "source": []
  }
 ],
 "metadata": {
  "kernelspec": {
   "display_name": "base",
   "language": "python",
   "name": "python3"
  },
  "language_info": {
   "codemirror_mode": {
    "name": "ipython",
    "version": 3
   },
   "file_extension": ".py",
   "mimetype": "text/x-python",
   "name": "python",
   "nbconvert_exporter": "python",
   "pygments_lexer": "ipython3",
   "version": "3.9.13"
  },
  "orig_nbformat": 4
 },
 "nbformat": 4,
 "nbformat_minor": 2
}
